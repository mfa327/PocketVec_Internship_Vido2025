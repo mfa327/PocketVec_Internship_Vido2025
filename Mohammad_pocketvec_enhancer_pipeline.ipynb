{
 "cells": [
  {
   "cell_type": "markdown",
   "metadata": {},
   "source": [
    "# 🧪 PocketVec Enhancer Pipeline\n",
    "\n",
    "This Jupyter notebook runs a novel computational docking + descriptor pipeline based on PocketVec + rDock + visual reporting."
   ]
  },
  {
   "cell_type": "code",
   "execution_count": null,
   "metadata": {},
   "outputs": [],
   "source": [
    "# 🔧 Imports\n",
    "import os\n",
    "import shutil\n",
    "import matplotlib.pyplot as plt\n",
    "from code.utils.pocketvec_utils import run_rdock, generate_descriptors"
   ]
  },
  {
   "cell_type": "code",
   "execution_count": null,
   "metadata": {},
   "outputs": [],
   "source": [
    "# 📁 Set input/output paths\n",
    "protein_pdb = 'data/1a1e_protein.pdb'\n",
    "ligand_mol2 = 'data/1a1e_ligand.mol2'\n",
    "output_dir = 'results/1a1e_enhanced/'\n",
    "\n",
    "# ⏳ Create results directory\n",
    "os.makedirs(output_dir, exist_ok=True)"
   ]
  },
  {
   "cell_type": "code",
   "execution_count": null,
   "metadata": {},
   "outputs": [],
   "source": [
    "# 🚀 Run rDock docking\n",
    "run_rdock(protein_pdb, ligand_mol2, output_dir)"
   ]
  },
  {
   "cell_type": "code",
   "execution_count": null,
   "metadata": {},
   "outputs": [],
   "source": [
    "# 📊 Generate descriptors\n",
    "desc_file = os.path.join(output_dir, 'descriptors.csv')\n",
    "generate_descriptors(output_dir, desc_file)"
   ]
  },
  {
   "cell_type": "code",
   "execution_count": null,
   "metadata": {},
   "outputs": [],
   "source": [
    "# 📈 Visualize some descriptors\n",
    "import pandas as pd\n",
    "df = pd.read_csv(desc_file)\n",
    "\n",
    "plt.figure(figsize=(8,4))\n",
    "plt.hist(df['hydrophobicity'], bins=20, edgecolor='black')\n",
    "plt.title('Hydrophobicity Distribution')\n",
    "plt.xlabel('Hydrophobicity')\n",
    "plt.ylabel('Count')\n",
    "plt.grid(True)\n",
    "plt.show()"
   ]
  },
  {
   "cell_type": "markdown",
   "metadata": {},
   "source": [
    "---\n",
    "✅ **Done!**\n",
    "\n",
    "This notebook runs enhanced PocketVec pipeline + docking + descriptor generation + visualization.\n",
    "\n",
    "**Author:** Mohammad | Internship VIDO 2025"
   ]
  }
 ],
 "metadata": {
  "kernelspec": {
   "display_name": "Python 3",
   "language": "python",
   "name": "python3"
  },
  "language_info": {
   "name": "python",
   "version": ""
  }
 },
 "nbformat": 4,
 "nbformat_minor": 5
}
